{
 "cells": [
  {
   "cell_type": "code",
   "execution_count": 1,
   "metadata": {},
   "outputs": [],
   "source": [
    "import networkx as nx\n",
    "import numpy as np\n",
    "import random\n",
    "import pandas as pd\n",
    "import matplotlib.pyplot as plt\n",
    "import matplotlib as mpl \n",
    "%matplotlib inline\n",
    "plt.rcParams['font.sans-serif']=['SimHei'] # 显示中文\n",
    "plt.rcParams['axes.unicode_minus'] = False # 显示负号\n"
   ]
  },
  {
   "cell_type": "code",
   "execution_count": 2,
   "metadata": {},
   "outputs": [
    {
     "data": {
      "image/png": "[encoded data removed]",
      "text/plain": [
       "<Figure size 640x480 with 1 Axes>"
      ]
     },
     "metadata": {},
     "output_type": "display_data"
    }
   ],
   "source": [
    "G = nx.star_graph(7)\n",
    "nx.draw(G)"
   ]
  },
  {
   "cell_type": "code",
   "execution_count": 3,
   "metadata": {},
   "outputs": [
    {
     "data": {
      "text/plain": [
       "{0: 0.4583348922684132,\n",
       " 1: 0.07738072967594098,\n",
       " 2: 0.07738072967594098,\n",
       " 3: 0.07738072967594098,\n",
       " 4: 0.07738072967594098,\n",
       " 5: 0.07738072967594098,\n",
       " 6: 0.07738072967594098,\n",
       " 7: 0.07738072967594098}"
      ]
     },
     "execution_count": 3,
     "metadata": {},
     "output_type": "execute_result"
    }
   ],
   "source": [
    "# 计算PageRank节点重要度\n",
    "pagerank = nx.pagerank(G,alpha=0.8)\n",
    "pagerank"
   ]
  },
  {
   "attachments": {},
   "cell_type": "markdown",
   "metadata": {},
   "source": [
    "显然0号节点的PageRank重要度最高，实际上PageRank重要度只对有向图有效，但是传入到nx.pagerank以后，networkx会自动将该无向图转为双向图，这样就有指向"
   ]
  },
  {
   "attachments": {},
   "cell_type": "markdown",
   "metadata": {},
   "source": [
    "如果对某一个函数有疑问，可以使用'函数?'来得到回答，如下"
   ]
  },
  {
   "cell_type": "code",
   "execution_count": 4,
   "metadata": {},
   "outputs": [
    {
     "name": "stdout",
     "output_type": "stream",
     "text": [
      "\u001b[1;31mSignature:\u001b[0m\n",
      "\u001b[0mnx\u001b[0m\u001b[1;33m.\u001b[0m\u001b[0mpagerank\u001b[0m\u001b[1;33m(\u001b[0m\u001b[1;33m\n",
      "\u001b[0m    \u001b[0mG\u001b[0m\u001b[1;33m,\u001b[0m\u001b[1;33m\n",
      "\u001b[0m    \u001b[0malpha\u001b[0m\u001b[1;33m=\u001b[0m\u001b[1;36m0.85\u001b[0m\u001b[1;33m,\u001b[0m\u001b[1;33m\n",
      "\u001b[0m    \u001b[0mpersonalization\u001b[0m\u001b[1;33m=\u001b[0m\u001b[1;32mNone\u001b[0m\u001b[1;33m,\u001b[0m\u001b[1;33m\n",
      "\u001b[0m    \u001b[0mmax_iter\u001b[0m\u001b[1;33m=\u001b[0m\u001b[1;36m100\u001b[0m\u001b[1;33m,\u001b[0m\u001b[1;33m\n",
      "\u001b[0m    \u001b[0mtol\u001b[0m\u001b[1;33m=\u001b[0m\u001b[1;36m1e-06\u001b[0m\u001b[1;33m,\u001b[0m\u001b[1;33m\n",
      "\u001b[0m    \u001b[0mnstart\u001b[0m\u001b[1;33m=\u001b[0m\u001b[1;32mNone\u001b[0m\u001b[1;33m,\u001b[0m\u001b[1;33m\n",
      "\u001b[0m    \u001b[0mweight\u001b[0m\u001b[1;33m=\u001b[0m\u001b[1;34m'weight'\u001b[0m\u001b[1;33m,\u001b[0m\u001b[1;33m\n",
      "\u001b[0m    \u001b[0mdangling\u001b[0m\u001b[1;33m=\u001b[0m\u001b[1;32mNone\u001b[0m\u001b[1;33m,\u001b[0m\u001b[1;33m\n",
      "\u001b[0m\u001b[1;33m)\u001b[0m\u001b[1;33m\u001b[0m\u001b[1;33m\u001b[0m\u001b[0m\n",
      "\u001b[1;31mDocstring:\u001b[0m\n",
      "Returns the PageRank of the nodes in the graph.\n",
      "\n",
      "PageRank computes a ranking of the nodes in the graph G based on\n",
      "the structure of the incoming links. It was originally designed as\n",
      "an algorithm to rank web pages.\n",
      "\n",
      "Parameters\n",
      "----------\n",
      "G : graph\n",
      "  A NetworkX graph.  Undirected graphs will be converted to a directed\n",
      "  graph with two directed edges for each undirected edge.\n",
      "\n",
      "alpha : float, optional\n",
      "  Damping parameter for PageRank, default=0.85.\n",
      "\n",
      "personalization: dict, optional\n",
      "  The \"personalization vector\" consisting of a dictionary with a\n",
      "  key some subset of graph nodes and personalization value each of those.\n",
      "  At least one personalization value must be non-zero.\n",
      "  If not specfiied, a nodes personalization value will be zero.\n",
      "  By default, a uniform distribution is used.\n",
      "\n",
      "max_iter : integer, optional\n",
      "  Maximum number of iterations in power method eigenvalue solver.\n",
      "\n",
      "tol : float, optional\n",
      "  Error tolerance used to check convergence in power method solver.\n",
      "\n",
      "nstart : dictionary, optional\n",
      "  Starting value of PageRank iteration for each node.\n",
      "\n",
      "weight : key, optional\n",
      "  Edge data key to use as weight.  If None weights are set to 1.\n",
      "\n",
      "dangling: dict, optional\n",
      "  The outedges to be assigned to any \"dangling\" nodes, i.e., nodes without\n",
      "  any outedges. The dict key is the node the outedge points to and the dict\n",
      "  value is the weight of that outedge. By default, dangling nodes are given\n",
      "  outedges according to the personalization vector (uniform if not\n",
      "  specified). This must be selected to result in an irreducible transition\n",
      "  matrix (see notes under google_matrix). It may be common to have the\n",
      "  dangling dict to be the same as the personalization dict.\n",
      "\n",
      "\n",
      "Returns\n",
      "-------\n",
      "pagerank : dictionary\n",
      "   Dictionary of nodes with PageRank as value\n",
      "\n",
      "Examples\n",
      "--------\n",
      ">>> G = nx.DiGraph(nx.path_graph(4))\n",
      ">>> pr = nx.pagerank(G, alpha=0.9)\n",
      "\n",
      "Notes\n",
      "-----\n",
      "The eigenvector calculation is done by the power iteration method\n",
      "and has no guarantee of convergence.  The iteration will stop after\n",
      "an error tolerance of ``len(G) * tol`` has been reached. If the\n",
      "number of iterations exceed `max_iter`, a\n",
      ":exc:`networkx.exception.PowerIterationFailedConvergence` exception\n",
      "is raised.\n",
      "\n",
      "The PageRank algorithm was designed for directed graphs but this\n",
      "algorithm does not check if the input graph is directed and will\n",
      "execute on undirected graphs by converting each edge in the\n",
      "directed graph to two edges.\n",
      "\n",
      "See Also\n",
      "--------\n",
      "pagerank_numpy, pagerank_scipy, google_matrix\n",
      "\n",
      "Raises\n",
      "------\n",
      "PowerIterationFailedConvergence\n",
      "    If the algorithm fails to converge to the specified tolerance\n",
      "    within the specified number of iterations of the power iteration\n",
      "    method.\n",
      "\n",
      "References\n",
      "----------\n",
      ".. [1] A. Langville and C. Meyer,\n",
      "   \"A survey of eigenvector methods of web information retrieval.\"\n",
      "   http://citeseer.ist.psu.edu/713792.html\n",
      ".. [2] Page, Lawrence; Brin, Sergey; Motwani, Rajeev and Winograd, Terry,\n",
      "   The PageRank citation ranking: Bringing order to the Web. 1999\n",
      "   http://dbpubs.stanford.edu:8090/pub/showDoc.Fulltext?lang=en&doc=1999-66&format=pdf\n",
      "\u001b[1;31mFile:\u001b[0m      d:\\akprogram\\python\\anaconda\\anaconda\\envs\\py39pytorch\\lib\\site-packages\\networkx\\algorithms\\link_analysis\\pagerank_alg.py\n",
      "\u001b[1;31mType:\u001b[0m      function\n"
     ]
    }
   ],
   "source": [
    "nx.pagerank?"
   ]
  },
  {
   "cell_type": "markdown",
   "metadata": {},
   "source": []
  }
 ],
 "metadata": {
  "kernelspec": {
   "display_name": "py39pytorch",
   "language": "python",
   "name": "python3"
  },
  "language_info": {
   "codemirror_mode": {
    "name": "ipython",
    "version": 3
   },
   "file_extension": ".py",
   "mimetype": "text/x-python",
   "name": "python",
   "nbconvert_exporter": "python",
   "pygments_lexer": "ipython3",
   "version": "3.9.15"
  },
  "orig_nbformat": 4,
  "vscode": {
   "interpreter": {
    "hash": "538930efbce1f8e429778f48217eae9e40d64a38d4b4fbee6ac2d4db19998536"
   }
  }
 },
 "nbformat": 4,
 "nbformat_minor": 2
}
