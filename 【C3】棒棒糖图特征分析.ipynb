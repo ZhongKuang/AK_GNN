{
 "cells": [
  {
   "cell_type": "code",
   "execution_count": 1,
   "metadata": {},
   "outputs": [],
   "source": [
    "import networkx as nx\n",
    "import numpy as np\n",
    "import random\n",
    "import pandas as pd\n",
    "import matplotlib.pyplot as plt\n",
    "import matplotlib as mpl \n",
    "%matplotlib inline\n",
    "plt.rcParams['font.sans-serif']=['SimHei'] # 显示中文\n",
    "plt.rcParams['axes.unicode_minus'] = False # 显示负号\n"
   ]
  },
  {
   "cell_type": "code",
   "execution_count": 4,
   "metadata": {},
   "outputs": [
    {
     "data": {
      "image/png": "[encoded data removed]",
      "text/plain": [
       "<Figure size 640x480 with 1 Axes>"
      ]
     },
     "metadata": {},
     "output_type": "display_data"
    }
   ],
   "source": [
    "G = nx.lollipop_graph(4,7) # 4表示头的节点数，7表示尾部的节点数\n",
    "pos = nx.spring_layout(G,seed=42)\n",
    "nx.draw(G,pos)\n",
    "plt.show()"
   ]
  },
  {
   "attachments": {},
   "cell_type": "markdown",
   "metadata": {},
   "source": [
    "### 图数据分析"
   ]
  },
  {
   "cell_type": "code",
   "execution_count": 5,
   "metadata": {},
   "outputs": [
    {
     "data": {
      "text/plain": [
       "4"
      ]
     },
     "execution_count": 5,
     "metadata": {},
     "output_type": "execute_result"
    }
   ],
   "source": [
    "nx.radius(G) # 半径"
   ]
  },
  {
   "cell_type": "code",
   "execution_count": 6,
   "metadata": {},
   "outputs": [
    {
     "data": {
      "text/plain": [
       "8"
      ]
     },
     "execution_count": 6,
     "metadata": {},
     "output_type": "execute_result"
    }
   ],
   "source": [
    "nx.diameter(G) # 直径"
   ]
  },
  {
   "cell_type": "code",
   "execution_count": 7,
   "metadata": {},
   "outputs": [
    {
     "data": {
      "text/plain": [
       "{0: 8, 1: 8, 2: 8, 3: 7, 4: 6, 5: 5, 6: 4, 7: 5, 8: 6, 9: 7, 10: 8}"
      ]
     },
     "execution_count": 7,
     "metadata": {},
     "output_type": "execute_result"
    }
   ],
   "source": [
    "nx.eccentricity(G)# 偏心度：每个节点到图中其他节点的最远距离"
   ]
  },
  {
   "cell_type": "code",
   "execution_count": 8,
   "metadata": {},
   "outputs": [
    {
     "data": {
      "text/plain": [
       "[6]"
      ]
     },
     "execution_count": 8,
     "metadata": {},
     "output_type": "execute_result"
    }
   ],
   "source": [
    "nx.center(G)# 中心节点"
   ]
  },
  {
   "cell_type": "code",
   "execution_count": 10,
   "metadata": {},
   "outputs": [
    {
     "data": {
      "text/plain": [
       "[0, 1, 2, 10]"
      ]
     },
     "execution_count": 10,
     "metadata": {},
     "output_type": "execute_result"
    }
   ],
   "source": [
    "nx.periphery(G) # 外围节点"
   ]
  },
  {
   "cell_type": "code",
   "execution_count": 11,
   "metadata": {},
   "outputs": [
    {
     "data": {
      "text/plain": [
       "0.23636363636363636"
      ]
     },
     "execution_count": 11,
     "metadata": {},
     "output_type": "execute_result"
    }
   ],
   "source": [
    "nx.density(G)"
   ]
  },
  {
   "attachments": {},
   "cell_type": "markdown",
   "metadata": {},
   "source": [
    "n为节点个数，m为连接个数\n",
    "无向图\n",
    "$$density=\\frac{2m}{n(n-1)}$$\n",
    "有向图\n",
    "$$density=\\frac{m}{n(n-1)}$$\n",
    "无连接图的density为0，全连接图的density为1，Multigraph（多重连接图）和带self loop图的density可能大于1"
   ]
  },
  {
   "attachments": {},
   "cell_type": "markdown",
   "metadata": {},
   "source": [
    "### 3号节点到图中其他节点的最短距离"
   ]
  },
  {
   "cell_type": "code",
   "execution_count": 12,
   "metadata": {},
   "outputs": [
    {
     "data": {
      "text/plain": [
       "{3: 0, 0: 1, 1: 1, 2: 1, 4: 1, 5: 2, 6: 3, 7: 4, 8: 5, 9: 6, 10: 7}"
      ]
     },
     "execution_count": 12,
     "metadata": {},
     "output_type": "execute_result"
    }
   ],
   "source": [
    "node_id = 3\n",
    "nx.single_source_shortest_path_length(G,node_id)"
   ]
  },
  {
   "attachments": {},
   "cell_type": "markdown",
   "metadata": {},
   "source": [
    "### 每两个节点之间的最短距离"
   ]
  },
  {
   "cell_type": "code",
   "execution_count": 13,
   "metadata": {},
   "outputs": [
    {
     "name": "stdout",
     "output_type": "stream",
     "text": [
      "0 --> 0 最短距离 0\n",
      "0 --> 1 最短距离 1\n",
      "0 --> 2 最短距离 1\n",
      "0 --> 3 最短距离 1\n",
      "0 --> 4 最短距离 2\n",
      "0 --> 5 最短距离 3\n",
      "0 --> 6 最短距离 4\n",
      "0 --> 7 最短距离 5\n",
      "0 --> 8 最短距离 6\n",
      "0 --> 9 最短距离 7\n",
      "0 --> 10 最短距离 8\n",
      "1 --> 1 最短距离 0\n",
      "1 --> 0 最短距离 1\n",
      "1 --> 2 最短距离 1\n",
      "1 --> 3 最短距离 1\n",
      "1 --> 4 最短距离 2\n",
      "1 --> 5 最短距离 3\n",
      "1 --> 6 最短距离 4\n",
      "1 --> 7 最短距离 5\n",
      "1 --> 8 最短距离 6\n",
      "1 --> 9 最短距离 7\n",
      "1 --> 10 最短距离 8\n",
      "2 --> 2 最短距离 0\n",
      "2 --> 0 最短距离 1\n",
      "2 --> 1 最短距离 1\n",
      "2 --> 3 最短距离 1\n",
      "2 --> 4 最短距离 2\n",
      "2 --> 5 最短距离 3\n",
      "2 --> 6 最短距离 4\n",
      "2 --> 7 最短距离 5\n",
      "2 --> 8 最短距离 6\n",
      "2 --> 9 最短距离 7\n",
      "2 --> 10 最短距离 8\n",
      "3 --> 3 最短距离 0\n",
      "3 --> 0 最短距离 1\n",
      "3 --> 1 最短距离 1\n",
      "3 --> 2 最短距离 1\n",
      "3 --> 4 最短距离 1\n",
      "3 --> 5 最短距离 2\n",
      "3 --> 6 最短距离 3\n",
      "3 --> 7 最短距离 4\n",
      "3 --> 8 最短距离 5\n",
      "3 --> 9 最短距离 6\n",
      "3 --> 10 最短距离 7\n",
      "4 --> 4 最短距离 0\n",
      "4 --> 3 最短距离 1\n",
      "4 --> 5 最短距离 1\n",
      "4 --> 0 最短距离 2\n",
      "4 --> 1 最短距离 2\n",
      "4 --> 2 最短距离 2\n",
      "4 --> 6 最短距离 2\n",
      "4 --> 7 最短距离 3\n",
      "4 --> 8 最短距离 4\n",
      "4 --> 9 最短距离 5\n",
      "4 --> 10 最短距离 6\n",
      "5 --> 5 最短距离 0\n",
      "5 --> 4 最短距离 1\n",
      "5 --> 6 最短距离 1\n",
      "5 --> 3 最短距离 2\n",
      "5 --> 7 最短距离 2\n",
      "5 --> 0 最短距离 3\n",
      "5 --> 1 最短距离 3\n",
      "5 --> 2 最短距离 3\n",
      "5 --> 8 最短距离 3\n",
      "5 --> 9 最短距离 4\n",
      "5 --> 10 最短距离 5\n",
      "6 --> 6 最短距离 0\n",
      "6 --> 5 最短距离 1\n",
      "6 --> 7 最短距离 1\n",
      "6 --> 8 最短距离 2\n",
      "6 --> 4 最短距离 2\n",
      "6 --> 9 最短距离 3\n",
      "6 --> 3 最短距离 3\n",
      "6 --> 0 最短距离 4\n",
      "6 --> 1 最短距离 4\n",
      "6 --> 2 最短距离 4\n",
      "6 --> 10 最短距离 4\n",
      "7 --> 7 最短距离 0\n",
      "7 --> 8 最短距离 1\n",
      "7 --> 6 最短距离 1\n",
      "7 --> 9 最短距离 2\n",
      "7 --> 5 最短距离 2\n",
      "7 --> 10 最短距离 3\n",
      "7 --> 4 最短距离 3\n",
      "7 --> 3 最短距离 4\n",
      "7 --> 0 最短距离 5\n",
      "7 --> 1 最短距离 5\n",
      "7 --> 2 最短距离 5\n",
      "8 --> 8 最短距离 0\n",
      "8 --> 9 最短距离 1\n",
      "8 --> 7 最短距离 1\n",
      "8 --> 10 最短距离 2\n",
      "8 --> 6 最短距离 2\n",
      "8 --> 5 最短距离 3\n",
      "8 --> 4 最短距离 4\n",
      "8 --> 3 最短距离 5\n",
      "8 --> 0 最短距离 6\n",
      "8 --> 1 最短距离 6\n",
      "8 --> 2 最短距离 6\n",
      "9 --> 9 最短距离 0\n",
      "9 --> 8 最短距离 1\n",
      "9 --> 10 最短距离 1\n",
      "9 --> 7 最短距离 2\n",
      "9 --> 6 最短距离 3\n",
      "9 --> 5 最短距离 4\n",
      "9 --> 4 最短距离 5\n",
      "9 --> 3 最短距离 6\n",
      "9 --> 0 最短距离 7\n",
      "9 --> 1 最短距离 7\n",
      "9 --> 2 最短距离 7\n",
      "10 --> 10 最短距离 0\n",
      "10 --> 9 最短距离 1\n",
      "10 --> 8 最短距离 2\n",
      "10 --> 7 最短距离 3\n",
      "10 --> 6 最短距离 4\n",
      "10 --> 5 最短距离 5\n",
      "10 --> 4 最短距离 6\n",
      "10 --> 3 最短距离 7\n",
      "10 --> 0 最短距离 8\n",
      "10 --> 1 最短距离 8\n",
      "10 --> 2 最短距离 8\n"
     ]
    }
   ],
   "source": [
    "pathlengths = []\n",
    "for v in G.nodes():\n",
    "    spl = nx.single_source_shortest_path_length(G, v)\n",
    "    for p in spl:\n",
    "        print('{} --> {} 最短距离 {}'.format(v, p, spl[p]))\n",
    "        pathlengths.append(spl[p])"
   ]
  },
  {
   "cell_type": "code",
   "execution_count": 15,
   "metadata": {},
   "outputs": [
    {
     "name": "stdout",
     "output_type": "stream",
     "text": [
      "3.2231404958677685\n"
     ]
    }
   ],
   "source": [
    "# 平均最短距离\n",
    "print(sum(pathlengths) / len(pathlengths))"
   ]
  },
  {
   "cell_type": "code",
   "execution_count": 16,
   "metadata": {},
   "outputs": [
    {
     "name": "stdout",
     "output_type": "stream",
     "text": [
      "{0: 11, 1: 26, 2: 18, 3: 16, 4: 14, 5: 12, 6: 10, 7: 8, 8: 6}\n"
     ]
    }
   ],
   "source": [
    "# 不同距离的节点对个数\n",
    "dist = {}\n",
    "for p in pathlengths:\n",
    "    if p in dist:\n",
    "        dist[p] += 1\n",
    "    else:\n",
    "        dist[p] = 1\n",
    "print(dist)"
   ]
  },
  {
   "cell_type": "code",
   "execution_count": null,
   "metadata": {},
   "outputs": [],
   "source": []
  }
 ],
 "metadata": {
  "kernelspec": {
   "display_name": "py39pytorch",
   "language": "python",
   "name": "python3"
  },
  "language_info": {
   "codemirror_mode": {
    "name": "ipython",
    "version": 3
   },
   "file_extension": ".py",
   "mimetype": "text/x-python",
   "name": "python",
   "nbconvert_exporter": "python",
   "pygments_lexer": "ipython3",
   "version": "3.9.15"
  },
  "orig_nbformat": 4,
  "vscode": {
   "interpreter": {
    "hash": "538930efbce1f8e429778f48217eae9e40d64a38d4b4fbee6ac2d4db19998536"
   }
  }
 },
 "nbformat": 4,
 "nbformat_minor": 2
}
