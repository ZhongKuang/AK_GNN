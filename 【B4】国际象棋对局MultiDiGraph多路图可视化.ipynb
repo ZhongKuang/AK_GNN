{
 "cells": [
  {
   "cell_type": "code",
   "execution_count": 1,
   "metadata": {},
   "outputs": [],
   "source": [
    "import networkx as nx\n",
    "import numpy as np\n",
    "import random\n",
    "import pandas as pd\n",
    "import matplotlib.pyplot as plt\n",
    "import matplotlib as mpl \n",
    "%matplotlib inline\n",
    "plt.rcParams['font.sans-serif']=['SimHei'] # 显示中文\n",
    "plt.rcParams['axes.unicode_minus'] = False # 显示负号\n"
   ]
  },
  {
   "attachments": {},
   "cell_type": "markdown",
   "metadata": {},
   "source": [
    "比如两个棋手在多年下了很多盘棋，因此两个棋手之间的连接是很多的。又或者你从A到B，可以选的交通方式也有很多。两个节点之间的连接有多个的，叫做多路图"
   ]
  },
  {
   "attachments": {},
   "cell_type": "markdown",
   "metadata": {},
   "source": [
    "### 从连接表创建MultiDiGraph多路有向图"
   ]
  },
  {
   "cell_type": "code",
   "execution_count": null,
   "metadata": {},
   "outputs": [],
   "source": [
    "df = pd.read_csv('WCC.csv')\n",
    "\n",
    "G = nx.from_pandas_edgelist(df, 'White', 'Black', edge_attr=True, create_using=nx.MultiDiGraph())\n",
    "print('棋手（节点）个数', G.number_of_nodes()) # 25\n",
    "print('棋局（连接）个数', G.number_of_edges()) # 685\n",
    "pos = nx.spring_layout(G, seed=10)\n",
    "nx.draw(G, pos)  # 初步可视化"
   ]
  },
  {
   "attachments": {},
   "cell_type": "markdown",
   "metadata": {},
   "source": [
    "### 连通域分析: 将G转为无向图，分析连通域"
   ]
  },
  {
   "cell_type": "code",
   "execution_count": null,
   "metadata": {},
   "outputs": [],
   "source": [
    "\n",
    "H = G.to_undirected()\n",
    "for each in nx.connected_components(H):\n",
    "    print('连通域')\n",
    "    print(H.subgraph(each))\n",
    "    print('包含节点')\n",
    "    print(each)\n",
    "    print('\\n')"
   ]
  },
  {
   "attachments": {},
   "cell_type": "markdown",
   "metadata": {},
   "source": [
    "### 高级可视化"
   ]
  },
  {
   "cell_type": "code",
   "execution_count": null,
   "metadata": {},
   "outputs": [],
   "source": [
    "# 将G转为无向-单连接图\n",
    "H = nx.Graph(G)\n",
    "\n",
    "# 两个棋手节点之间的 连接宽度 与 棋局个数 成正比\n",
    "edgewidth = [len(G.get_edge_data(u, v)) for u, v in H.edges()]\n",
    "\n",
    "# 棋手节点的大小 与 赢棋次数 成正比\n",
    "wins = dict.fromkeys(G.nodes(), 0) # 生成每个棋手作为key的dict\n",
    "for (u, v, d) in G.edges(data=True):\n",
    "    r = d[\"Result\"].split(\"-\")\n",
    "    if r[0] == \"1\":\n",
    "        wins[u] += 1.0\n",
    "    elif r[0] == \"1/2\":\n",
    "        wins[u] += 0.5\n",
    "        wins[v] += 0.5\n",
    "    else:\n",
    "        wins[v] += 1.0\n",
    "nodesize = [wins[v] * 50 for v in H]\n",
    "\n",
    "# 布局\n",
    "pos = nx.kamada_kawai_layout(H)\n",
    "\n",
    "# 手动微调节点的横坐标（越大越靠右）、纵坐标（越大越靠下）\n",
    "pos[\"Reshevsky, Samuel H\"] += (0.05, -0.10)\n",
    "pos[\"Botvinnik, Mikhail M\"] += (0.03, -0.06)\n",
    "pos[\"Smyslov, Vassily V\"] += (0.05, -0.03)\n",
    "\n",
    "fig, ax = plt.subplots(figsize=(12, 12))\n",
    "\n",
    "# 可视化连接\n",
    "nx.draw_networkx_edges(H, pos, alpha=0.3, width=edgewidth, edge_color=\"m\")\n",
    "\n",
    "# 可视化节点\n",
    "nx.draw_networkx_nodes(H, pos, node_size=nodesize, node_color=\"#210070\", alpha=0.9)\n",
    "\n",
    "# 节点名称文字说明\n",
    "label_options = {\"ec\": \"k\", \"fc\": \"white\", \"alpha\": 0.7}\n",
    "nx.draw_networkx_labels(H, pos, font_size=14, bbox=label_options)\n",
    "\n",
    "# 标题和图例\n",
    "font = {\"fontname\": \"Helvetica\", \"color\": \"k\", \"fontweight\": \"bold\", \"fontsize\": 16}\n",
    "ax.set_title(\"World Chess Championship Games: 1886 - 1985\", font)\n",
    "# 图例字体颜色\n",
    "font[\"color\"] = \"r\"\n",
    "\n",
    "# 文字说明\n",
    "ax.text(\n",
    "    0.80,\n",
    "    0.10,\n",
    "    \"edge width = # games played\",\n",
    "    horizontalalignment=\"center\",\n",
    "    transform=ax.transAxes,\n",
    "    fontdict=font,\n",
    ")\n",
    "ax.text(\n",
    "    0.80,\n",
    "    0.06,\n",
    "    \"node size = # games won\",\n",
    "    horizontalalignment=\"center\",\n",
    "    transform=ax.transAxes,\n",
    "    fontdict=font,\n",
    ")\n",
    "\n",
    "# 调整图的大小，提高可读性\n",
    "ax.margins(0.1, 0.05)\n",
    "fig.tight_layout()\n",
    "plt.axis(\"off\")\n",
    "plt.show()"
   ]
  }
 ],
 "metadata": {
  "kernelspec": {
   "display_name": "py39pytorch",
   "language": "python",
   "name": "python3"
  },
  "language_info": {
   "codemirror_mode": {
    "name": "ipython",
    "version": 3
   },
   "file_extension": ".py",
   "mimetype": "text/x-python",
   "name": "python",
   "nbconvert_exporter": "python",
   "pygments_lexer": "ipython3",
   "version": "3.9.15"
  },
  "orig_nbformat": 4,
  "vscode": {
   "interpreter": {
    "hash": "538930efbce1f8e429778f48217eae9e40d64a38d4b4fbee6ac2d4db19998536"
   }
  }
 },
 "nbformat": 4,
 "nbformat_minor": 2
}
